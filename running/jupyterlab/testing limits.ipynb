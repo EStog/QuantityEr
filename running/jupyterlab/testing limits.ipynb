{
 "cells": [
  {
   "cell_type": "code",
   "execution_count": 2,
   "metadata": {},
   "outputs": [],
   "source": [
    "token = '626b86cd521ee06111476281b98c9aae488c18cc'"
   ]
  },
  {
   "cell_type": "code",
   "execution_count": 5,
   "metadata": {},
   "outputs": [
    {
     "name": "stdout",
     "output_type": "stream",
     "text": [
      "422 {\"message\": \"Validation Failed\", \"errors\": [{\"message\": \"The search is longer than 128 characters.\", \"resource\": \"Search\", \"field\": \"q\", \"code\": \"invalid\"}], \"documentation_url\": \"https://developer.github.com/v3/search/\"}\n"
     ]
    }
   ],
   "source": [
    "from github import Github\n",
    "from github import GithubException\n",
    "client = Github(token)\n",
    "x = client.search_code('A very long query that has more than 128 characters, '\n",
    "                       'just to prove that the real limit for searching code '\n",
    "                       'is 128 characters and not 256 as it is said in '\n",
    "                       'https://developer.github.com/v3/search/')\n",
    "try:\n",
    "    print(x[0])\n",
    "except GithubException as e:\n",
    "    print(e)"
   ]
  },
  {
   "cell_type": "code",
   "execution_count": 9,
   "metadata": {},
   "outputs": [
    {
     "name": "stdout",
     "output_type": "stream",
     "text": [
      "108752\n"
     ]
    }
   ],
   "source": [
    "x = client.search_code('multiprocessing OR (threading AND asyncio)')\n",
    "x[0]\n",
    "print(x.totalCount)"
   ]
  },
  {
   "cell_type": "code",
   "execution_count": null,
   "metadata": {},
   "outputs": [],
   "source": []
  }
 ],
 "metadata": {
  "kernelspec": {
   "display_name": "Python 3",
   "language": "python",
   "name": "python3"
  },
  "language_info": {
   "codemirror_mode": {
    "name": "ipython",
    "version": 3
   },
   "file_extension": ".py",
   "mimetype": "text/x-python",
   "name": "python",
   "nbconvert_exporter": "python",
   "pygments_lexer": "ipython3",
   "version": "3.7.3"
  }
 },
 "nbformat": 4,
 "nbformat_minor": 4
}
